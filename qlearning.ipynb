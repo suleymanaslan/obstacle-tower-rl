{
 "cells": [
  {
   "cell_type": "code",
   "execution_count": null,
   "metadata": {},
   "outputs": [],
   "source": [
    "import numpy as np\n",
    "from datetime import datetime\n",
    "\n",
    "from env import SimpleEnv\n",
    "from agent import SimpleAgent\n",
    "from replay_memory import SimpleReplayMemory\n",
    "\n",
    "\n",
    "env = SimpleEnv(action_size=4)\n",
    "agent = SimpleAgent(env, batch_size=64, discount=0.99, lr=5e-4, input_size=8, hidden_size=256, eps_decay=5e-4, min_epsilon=0.01)\n",
    "mem = SimpleReplayMemory(capacity=int(1e5), input_size=8)\n",
    "\n",
    "episodes = int(10e3)\n",
    "target_update = int(1e3)\n",
    "\n",
    "rewards = []\n",
    "ep_rewards = []\n",
    "\n",
    "print(f\"{datetime.now()}, start training\")\n",
    "steps = 0\n",
    "for episode_ix in range(1, episodes+1):\n",
    "    observation, ep_reward, ep_steps, done = env.reset(), 0, 0, False\n",
    "    while not done:\n",
    "        action = agent.act_e_greedy(observation)\n",
    "        next_observation, reward, done, info = env.step(action)\n",
    "        rewards.append(reward)\n",
    "        ep_reward += reward\n",
    "        ep_steps += 1\n",
    "        steps += 1\n",
    "        mem.append(observation, action, reward, done, next_observation)\n",
    "        agent.learn(mem)\n",
    "        if steps % target_update == 0:\n",
    "            agent.update_target_net()\n",
    "        observation = next_observation\n",
    "    ep_rewards.append(ep_reward)\n",
    "    if episode_ix == 1 or episode_ix % 1 == 0:\n",
    "        print(f\"{datetime.now()}, episode:{episode_ix:2d}, step:{steps:5d}, reward:{ep_reward:10.4f}\")\n",
    "print(f\"{datetime.now()}, end training\")\n",
    "env.close()    "
   ]
  },
  {
   "cell_type": "code",
   "execution_count": null,
   "metadata": {},
   "outputs": [],
   "source": [
    "for _ in range(10):\n",
    "    observation, ep_reward, ep_steps, done = env.reset(), 0, 0, False\n",
    "    while not done:\n",
    "        env.env.render()\n",
    "        action = agent.act_e_greedy(observation)\n",
    "        next_observation, reward, done, info = env.step(action)\n",
    "        ep_reward += reward\n",
    "        ep_steps += 1\n",
    "        observation = next_observation\n",
    "    print(f\"{datetime.now()}, ep_steps:{ep_steps:5d}, reward:{ep_reward:10.4f}\")\n",
    "env.close()"
   ]
  }
 ],
 "metadata": {
  "kernelspec": {
   "display_name": "Python 3",
   "language": "python",
   "name": "python3"
  },
  "language_info": {
   "codemirror_mode": {
    "name": "ipython",
    "version": 3
   },
   "file_extension": ".py",
   "mimetype": "text/x-python",
   "name": "python",
   "nbconvert_exporter": "python",
   "pygments_lexer": "ipython3",
   "version": "3.7.7"
  }
 },
 "nbformat": 4,
 "nbformat_minor": 4
}
