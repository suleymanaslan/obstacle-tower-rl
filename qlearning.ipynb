{
 "cells": [
  {
   "cell_type": "code",
   "execution_count": null,
   "metadata": {},
   "outputs": [],
   "source": [
    "%matplotlib inline\n",
    "import numpy as np\n",
    "\n",
    "import matplotlib.pyplot as plt\n",
    "\n",
    "from q_network import QNetwork\n",
    "from model import Model\n",
    "from agent import Agent\n",
    "\n",
    "\n",
    "plt.style.use(\"dark_background\")"
   ]
  },
  {
   "cell_type": "code",
   "execution_count": null,
   "metadata": {},
   "outputs": [],
   "source": [
    "input_size = 8\n",
    "action_size = 4\n",
    "\n",
    "agent = Agent(Model(QNetwork(input_size, action_size, feature_size=256), lr=3e-3, batch_size=64), \n",
    "              input_size, action_size, gamma=0.99, epsilon=1.0, min_epsilon=0.01, epsilon_decay=5e-4, memory_size=100_000)\n",
    "scores, avg_scores = agent.start_training(episodes=500, window_size=20)\n",
    "\n",
    "plt.figure(figsize=(9*2, 5*2))\n",
    "plt.plot(scores)\n",
    "plt.plot(avg_scores)"
   ]
  }
 ],
 "metadata": {
  "kernelspec": {
   "display_name": "Python 3",
   "language": "python",
   "name": "python3"
  },
  "language_info": {
   "codemirror_mode": {
    "name": "ipython",
    "version": 3
   },
   "file_extension": ".py",
   "mimetype": "text/x-python",
   "name": "python",
   "nbconvert_exporter": "python",
   "pygments_lexer": "ipython3",
   "version": "3.7.7"
  }
 },
 "nbformat": 4,
 "nbformat_minor": 4
}
