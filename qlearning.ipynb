{
 "cells": [
  {
   "cell_type": "code",
   "execution_count": null,
   "metadata": {
    "scrolled": true
   },
   "outputs": [],
   "source": [
    "import numpy as np\n",
    "from datetime import datetime\n",
    "\n",
    "from env import Env\n",
    "from agent import SimpleAgent\n",
    "from replay_memory import SimpleReplayMemory\n",
    "\n",
    "\n",
    "env = Env(action_size=4, history_length=4, pixel_obs=False)\n",
    "agent = SimpleAgent(env, atoms=51, V_min=-10.0, V_max=10.0, batch_size=64, multi_step=3, discount=0.99, \n",
    "                    norm_clip=10.0, lr=1e-4, adam_eps=1.5e-4, input_size=8, hidden_size=256, noisy_std=0.1, eps_decay=5e-4, min_epsilon=0.01)\n",
    "mem = SimpleReplayMemory(int(100e3), env.window, agent.discount, agent.n, priority_weight=0.4, priority_exponent=0.5)\n",
    "\n",
    "episodes = int(10e3)\n",
    "replay_frequency = 2\n",
    "reward_clip = 1.0\n",
    "max_steps = int(50e6)\n",
    "learning_start_step = int(5e3)\n",
    "target_update = int(2e3)\n",
    "priority_weight_increase = (1 - mem.priority_weight) / (max_steps - learning_start_step)\n",
    "\n",
    "rewards = []\n",
    "ep_rewards = []\n",
    "\n",
    "print(f\"{datetime.now()}, start training\")\n",
    "steps = 0\n",
    "for episode_ix in range(1, episodes+1):\n",
    "    observation, ep_reward, ep_steps, done = env.reset(), 0, 0, False\n",
    "    while not done:\n",
    "        if steps % replay_frequency == 0:\n",
    "            agent.reset_noise()\n",
    "        action = agent.act(observation)\n",
    "        next_observation, reward, done, info = env.step(action)\n",
    "        rewards.append(reward)\n",
    "        ep_reward += reward\n",
    "        ep_steps += 1\n",
    "        steps += 1\n",
    "        if reward_clip > 0:\n",
    "            reward = max(min(reward, reward_clip), -reward_clip) / reward_clip\n",
    "        mem.append(observation, action, reward, done)\n",
    "        if steps >= learning_start_step:\n",
    "            mem.priority_weight = min(mem.priority_weight + priority_weight_increase, 1)\n",
    "            if steps % replay_frequency == 0:\n",
    "                agent.learn(mem)\n",
    "            if steps % target_update == 0:\n",
    "                agent.update_target_net()\n",
    "        observation = next_observation\n",
    "    ep_rewards.append(ep_reward)\n",
    "    if episode_ix == 1 or episode_ix % 1 == 0:\n",
    "        print(f\"{datetime.now()}, episode:{episode_ix:2d}, step:{steps:5d}, reward:{ep_reward:10.4f}\")\n",
    "print(f\"{datetime.now()}, end training\")\n",
    "env.close()"
   ]
  },
  {
   "cell_type": "code",
   "execution_count": null,
   "metadata": {},
   "outputs": [],
   "source": [
    "agent.epsilon = 0.01\n",
    "for _ in range(10):\n",
    "    observation, ep_reward, ep_steps, done = env.reset(), 0, 0, False\n",
    "    while not done:\n",
    "        env.wrapped_env.render()\n",
    "        action = agent.act_e_greedy(observation)\n",
    "        next_observation, reward, done, info = env.step(action)\n",
    "        ep_reward += reward\n",
    "        ep_steps += 1\n",
    "        observation = next_observation\n",
    "    print(f\"{datetime.now()}, ep_steps:{ep_steps:5d}, reward:{ep_reward:10.4f}\")\n",
    "env.close()"
   ]
  }
 ],
 "metadata": {
  "kernelspec": {
   "display_name": "Python 3",
   "language": "python",
   "name": "python3"
  },
  "language_info": {
   "codemirror_mode": {
    "name": "ipython",
    "version": 3
   },
   "file_extension": ".py",
   "mimetype": "text/x-python",
   "name": "python",
   "nbconvert_exporter": "python",
   "pygments_lexer": "ipython3",
   "version": "3.7.7"
  }
 },
 "nbformat": 4,
 "nbformat_minor": 4
}
