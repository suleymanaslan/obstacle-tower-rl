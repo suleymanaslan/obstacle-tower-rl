{
 "cells": [
  {
   "cell_type": "code",
   "execution_count": null,
   "metadata": {
    "scrolled": true
   },
   "outputs": [],
   "source": [
    "%matplotlib inline\n",
    "from env import ObstacleTowerEnv\n",
    "from agent import Agent\n",
    "from replay_memory import ReplayMemory\n",
    "from utils import Trainer\n",
    "\n",
    "\n",
    "env = ObstacleTowerEnv(action_size=54, history_length=16)\n",
    "agent = Agent(env, atoms=51, v_min=-20.0, v_max=20.0, batch_size=64, multi_step=3,\n",
    "              discount=0.99, norm_clip=10.0, lr=5e-4, adam_eps=1.5e-4, hidden_size=256, noisy_std=0.1)\n",
    "mem = ReplayMemory(int(50e3), env.window, agent.discount, agent.n, priority_weight=0.4, priority_exponent=0.5)\n",
    "trainer = Trainer(episodes=int(20e3), replay_frequency=6, reward_clip=2.0,\n",
    "                  max_steps=int(1e6), learning_start_step=int(5e3), target_update = int(2e3))\n",
    "\n",
    "trainer.train(env, agent, mem, notebook_file=\"qlearning\", load_file=\"model_1596371695\")"
   ]
  },
  {
   "cell_type": "code",
   "execution_count": null,
   "metadata": {
    "pycharm": {
     "name": "#%%\n"
    }
   },
   "outputs": [],
   "source": [
    "trainer.save(agent)"
   ]
  },
  {
   "cell_type": "code",
   "execution_count": null,
   "metadata": {},
   "outputs": [],
   "source": [
    "trainer.eval(env, agent)\n",
    "env.close()"
   ]
  }
 ],
 "metadata": {
  "kernelspec": {
   "display_name": "Python 3",
   "language": "python",
   "name": "python3"
  },
  "language_info": {
   "codemirror_mode": {
    "name": "ipython",
    "version": 3
   },
   "file_extension": ".py",
   "mimetype": "text/x-python",
   "name": "python",
   "nbconvert_exporter": "python",
   "pygments_lexer": "ipython3",
   "version": "3.7.7"
  }
 },
 "nbformat": 4,
 "nbformat_minor": 4
}
